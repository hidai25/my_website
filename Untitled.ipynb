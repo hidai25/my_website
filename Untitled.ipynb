{
 "cells": [
  {
   "cell_type": "code",
   "execution_count": 1,
   "metadata": {},
   "outputs": [],
   "source": [
    "import scrapy"
   ]
  },
  {
   "cell_type": "code",
   "execution_count": 2,
   "metadata": {},
   "outputs": [
    {
     "name": "stderr",
     "output_type": "stream",
     "text": [
      "2020-01-29 22:13:22 [scrapy.utils.log] INFO: Scrapy 1.8.0 started (bot: scrapybot)\n",
      "2020-01-29 22:13:22 [scrapy.utils.log] INFO: Versions: lxml 4.4.1.0, libxml2 2.9.9, cssselect 1.1.0, parsel 1.5.2, w3lib 1.21.0, Twisted 19.10.0, Python 3.7.4 (default, Aug 13 2019, 15:17:50) - [Clang 4.0.1 (tags/RELEASE_401/final)], pyOpenSSL 19.0.0 (OpenSSL 1.1.1d  10 Sep 2019), cryptography 2.7, Platform Darwin-19.0.0-x86_64-i386-64bit\n",
      "2020-01-29 22:13:22 [scrapy.crawler] INFO: Overridden settings: {}\n",
      "2020-01-29 22:13:22 [scrapy.extensions.telnet] INFO: Telnet Password: 72185b10f15d8ddf\n",
      "2020-01-29 22:13:22 [scrapy.middleware] INFO: Enabled extensions:\n",
      "['scrapy.extensions.corestats.CoreStats',\n",
      " 'scrapy.extensions.telnet.TelnetConsole',\n",
      " 'scrapy.extensions.memusage.MemoryUsage',\n",
      " 'scrapy.extensions.logstats.LogStats']\n",
      "2020-01-29 22:13:22 [scrapy.middleware] INFO: Enabled downloader middlewares:\n",
      "['scrapy.downloadermiddlewares.httpauth.HttpAuthMiddleware',\n",
      " 'scrapy.downloadermiddlewares.downloadtimeout.DownloadTimeoutMiddleware',\n",
      " 'scrapy.downloadermiddlewares.defaultheaders.DefaultHeadersMiddleware',\n",
      " 'scrapy.downloadermiddlewares.useragent.UserAgentMiddleware',\n",
      " 'scrapy.downloadermiddlewares.retry.RetryMiddleware',\n",
      " 'scrapy.downloadermiddlewares.redirect.MetaRefreshMiddleware',\n",
      " 'scrapy.downloadermiddlewares.httpcompression.HttpCompressionMiddleware',\n",
      " 'scrapy.downloadermiddlewares.redirect.RedirectMiddleware',\n",
      " 'scrapy.downloadermiddlewares.cookies.CookiesMiddleware',\n",
      " 'scrapy.downloadermiddlewares.httpproxy.HttpProxyMiddleware',\n",
      " 'scrapy.downloadermiddlewares.stats.DownloaderStats']\n",
      "2020-01-29 22:13:22 [scrapy.middleware] INFO: Enabled spider middlewares:\n",
      "['scrapy.spidermiddlewares.httperror.HttpErrorMiddleware',\n",
      " 'scrapy.spidermiddlewares.offsite.OffsiteMiddleware',\n",
      " 'scrapy.spidermiddlewares.referer.RefererMiddleware',\n",
      " 'scrapy.spidermiddlewares.urllength.UrlLengthMiddleware',\n",
      " 'scrapy.spidermiddlewares.depth.DepthMiddleware']\n",
      "2020-01-29 22:13:22 [scrapy.middleware] INFO: Enabled item pipelines:\n",
      "[]\n",
      "2020-01-29 22:13:22 [scrapy.core.engine] INFO: Spider opened\n",
      "2020-01-29 22:13:22 [scrapy.extensions.logstats] INFO: Crawled 0 pages (at 0 pages/min), scraped 0 items (at 0 items/min)\n",
      "2020-01-29 22:13:22 [scrapy.extensions.telnet] INFO: Telnet console listening on 127.0.0.1:6023\n",
      "2020-01-29 22:13:24 [scrapy.core.engine] DEBUG: Crawled (200) <GET https://en.wikiquote.org/wiki/Marilyn_Manson> (referer: None)\n",
      "2020-01-29 22:13:24 [scrapy.core.scraper] DEBUG: Scraped from <200 https://en.wikiquote.org/wiki/Marilyn_Manson>\n",
      "{'quote': '<li>If people really stopped and realized how much art and creative people move the world versus politics and religion, I mean it’s not even up for debate. An artist at least creates things, puts things into the world. Where as these other people are destroying things, taking things out of the world.”\\n<ul><li>Interview on <i>The Henry Rollins Show</i></li></ul></li>'}\n",
      "2020-01-29 22:13:24 [scrapy.core.scraper] DEBUG: Scraped from <200 https://en.wikiquote.org/wiki/Marilyn_Manson>\n",
      "{'quote': \"<li>I'm fucking sick of people who always try to blame movies, bands, songs, or talk shows for whatever the fuck hits them today-teen suicides, drug overdoses or everything else. If someone is stupid enough to kill himself because of a song, then that's exactly what they deserve – they weren't contributing anything to the society – it's one less idiot in the world. There's too many people – if more people kill themselves over music, it wouldn't disappoint me. What would disappoint me is that people are that stupid.\\n<ul><li>As quoted in <i>The Phil Donahue Show</i></li></ul></li>\"}\n",
      "2020-01-29 22:13:24 [scrapy.core.scraper] DEBUG: Scraped from <200 https://en.wikiquote.org/wiki/Marilyn_Manson>\n",
      "{'quote': '<li>… I don\\'t expect everyone to get something deep out of it. Some people can just listen to the music, or get their aggressions out, but I think with any great painting or movie, album or whatever it is, it\\'s better if people can take what they need from it. That they\\'re not forced to get some particular message.\\n<ul><li>As quoted in \"Headbanger\\'s Ball\" (10 December 1996), <i>MTV Europe</i>.</li></ul></li>'}\n",
      "2020-01-29 22:13:24 [scrapy.core.scraper] DEBUG: Scraped from <200 https://en.wikiquote.org/wiki/Marilyn_Manson>\n",
      "{'quote': '<li>The whole concept of this band is to present the ugly truth about society – warts and all, and let the chips fall where they may.\\n<ul><li>As quoted in <i>Huh</i> (October 1996).<sup title=\"Inadequate citation\">[<a href=\"/wiki/Wikiquote:Citing_sources\" title=\"Wikiquote:Citing sources\"><i>specific\\xa0citation\\xa0needed</i></a>]</sup></li></ul></li>'}\n",
      "2020-01-29 22:13:24 [scrapy.core.scraper] DEBUG: Scraped from <200 https://en.wikiquote.org/wiki/Marilyn_Manson>\n",
      "{'quote': '<li>If someone listens to our music, and it makes them creative, that makes me happier than anything. But with our music, we try to teach the masses of fans that not everything is as it seems.\\n<ul><li>As quoted in <i>Huh</i> (10 October 1996).<sup title=\"Inadequate citation\">[<a href=\"/wiki/Wikiquote:Citing_sources\" title=\"Wikiquote:Citing sources\"><i>specific\\xa0citation\\xa0needed</i></a>]</sup></li></ul></li>'}\n",
      "2020-01-29 22:13:24 [scrapy.core.scraper] DEBUG: Scraped from <200 https://en.wikiquote.org/wiki/Marilyn_Manson>\n",
      "{'quote': \"<li>I hope that with our music we can inspire other people to be creative and to use their imagination, because it is something that is so lacking nowadays. You have virtual reality, MTV, video games and VCR's. Nobody really wants to think about things or create things. You have programs on a computer which will write a poem for you.\\n<ul><li>As quoted in <i>Kerrang!</i> (14 December 1996).</li></ul></li>\"}\n",
      "2020-01-29 22:13:24 [scrapy.core.scraper] DEBUG: Scraped from <200 https://en.wikiquote.org/wiki/Marilyn_Manson>\n",
      "{'quote': '<li>The world doesn\\'t revolve around the sun, it revolves around a giant cock. That is what the world is about. It\\'s about sex. Anybody who doesn\\'t want to realize this is fooling themselves. People are bored because they\\'ve done everything they can do. So now the fear of death is the only thing that gets them excited. That\\'s why some people have made me into some type of sex symbol. I\\'m death on wheels the way I look.\\n<ul><li>As quoted in <i>Guitar School</i> (1996).<sup title=\"Inadequate citation\">[<a href=\"/wiki/Wikiquote:Citing_sources\" title=\"Wikiquote:Citing sources\"><i>specific\\xa0citation\\xa0needed</i></a>]</sup></li></ul></li>'}\n",
      "2020-01-29 22:13:24 [scrapy.core.scraper] DEBUG: Scraped from <200 https://en.wikiquote.org/wiki/Marilyn_Manson>\n",
      "{'quote': '<li>Hopefully, I’ll be remembered as the person who brought an end to Christianity.\\n<ul><li>As quoted in <i>Spin</i> (August 1996), p. 34.</li></ul></li>'}\n",
      "2020-01-29 22:13:24 [scrapy.core.scraper] DEBUG: Scraped from <200 https://en.wikiquote.org/wiki/Marilyn_Manson>\n",
      "{'quote': '<li>[The world\\'s] not a great place anymore and it can\\'t be. I\\'m sure it would have been much more enjoyable to be alive in the fifties, when there was at least an illusion of purity, and things that were taboo had such a great power to them. I think it was a time when magic was really alive. There\\'s no imagination anymore. It was eliminated with video games and VCR\\'s. I\\'m only necessary because of the way the world is. Well, maybe if I manage to make the world a better place then maybe I\\'d want to have a kid.\\n<ul><li>As quoted in <i>Guitar World</i> (1996).<sup title=\"Inadequate citation\">[<a href=\"/wiki/Wikiquote:Citing_sources\" title=\"Wikiquote:Citing sources\"><i>specific\\xa0citation\\xa0needed</i></a>]</sup></li></ul></li>'}\n",
      "2020-01-29 22:13:24 [scrapy.core.scraper] DEBUG: Scraped from <200 https://en.wikiquote.org/wiki/Marilyn_Manson>\n",
      "{'quote': '<li>I\\'m not anything like Brad Pitt or Antonio Banderas, but maybe it\\'s the taboo element of my image, which is almost deathlike, that attracts them. I should be the last person that [people] should be attracted to.\\n<ul><li>As quoted in <i>CMJ</i> (January 1997).<sup title=\"Inadequate citation\">[<a href=\"/wiki/Wikiquote:Citing_sources\" title=\"Wikiquote:Citing sources\"><i>specific\\xa0citation\\xa0needed</i></a>]</sup></li></ul></li>'}\n"
     ]
    },
    {
     "name": "stderr",
     "output_type": "stream",
     "text": [
      "2020-01-29 22:13:24 [scrapy.core.scraper] DEBUG: Scraped from <200 https://en.wikiquote.org/wiki/Marilyn_Manson>\n",
      "{'quote': '<li>In explaining things to people, I\\'ve come to terms with the fact that a lot of my goals are very Christian in the end. Because people no longer appreciate the taboos of sex, drugs, and rock &amp; roll. I have to take them as far as they\\'ve ever been taken before, on a grand scale, in order for the world to realize we have to start over. It\\'s very much like the mythology of the bible, the end of the world, and the antichrist and people are made to make a choice about their faith. I think certain elements of that are correct.\\n<ul><li>As quoted in <i>CMJ</i> (January 1997).<sup title=\"Inadequate citation\">[<a href=\"/wiki/Wikiquote:Citing_sources\" title=\"Wikiquote:Citing sources\"><i>specific\\xa0citation\\xa0needed</i></a>]</sup></li></ul></li>'}\n",
      "2020-01-29 22:13:24 [scrapy.core.scraper] DEBUG: Scraped from <200 https://en.wikiquote.org/wiki/Marilyn_Manson>\n",
      "{'quote': \"<li>It's really important for me to get across to our fans that whenever I put myself in different circumstances. It is to learn from it so I can relay it to others.\\n<ul><li>As quoted in <i>Circus</i> (January 1997).</li></ul></li>\"}\n",
      "2020-01-29 22:13:24 [scrapy.core.scraper] DEBUG: Scraped from <200 https://en.wikiquote.org/wiki/Marilyn_Manson>\n",
      "{'quote': '<li>… if my ideology is a hand, then that\\'s just two fingers. I incorporate a lot of Christian morality into what I do and in fact a lot of my beliefs are very conservative – like my desire for the world to be a better place where people use more intelligence. If you had to condense all that I believe in, it\\'s that responsible, intelligent people should be allowed to do what they want. That artists and performers and architects, people who contribute something to the world, that actually have something to say as opposed to a business man or a politician, say, people who actually contribute to society, the power should be traded. The creators are always suppressed – other than the placebo \"fame\" that they\\'re always given. I don\\'t really suggest any solution – that we could all kick them out of their positions of power and take over. It\\'s just the idea that if you enjoy what you do, that\\'s why you should do it.\\n<ul><li>As quoted in <i>NME</i> (30 August 1997).</li></ul></li>'}\n",
      "2020-01-29 22:13:24 [scrapy.core.scraper] DEBUG: Scraped from <200 https://en.wikiquote.org/wiki/Marilyn_Manson>\n",
      "{'quote': '<li>… if I hadn\\'t gone to a private Christian school, I\\'d never have built up enough animosity to want to have started a band. And now that I have one, the fact that they are giving me such resistance and publicity, they have made me far bigger than they\\'d ever have wanted me to have become. So I guess in a strange way the Christians have influenced me the most.\\n<ul><li>As quoted in <i>Vox</i> (October 1997).<sup title=\"Inadequate citation\">[<a href=\"/wiki/Wikiquote:Citing_sources\" title=\"Wikiquote:Citing sources\"><i>specific\\xa0citation\\xa0needed</i></a>]</sup></li></ul></li>'}\n",
      "2020-01-29 22:13:24 [scrapy.core.scraper] DEBUG: Scraped from <200 https://en.wikiquote.org/wiki/Marilyn_Manson>\n",
      "{'quote': '<li>Understand this, tell others: in my dream vultures chase me into my burning house. There, they pick out the brains of my family, dismember them, devour. I emerge from my home and I am burning, skin falling away like a snake as the structure crumbles into a black skeleton. I cannot fight off the vultures. A young man or woman emerges from the ashes. He/she doesn\\'t save me, because he/she is holding my cracked and swollen heart in one hand and a piece of paper in the other. I can read it. It discusses and compares in great detail the differences between me and the vultures. He wraps my heart in the paper and tosses it to the ground. Can you see?\\n<ul><li>As quoted in MarilynManson.com (6 February 1999).<sup title=\"Inadequate citation\">[<a href=\"/wiki/Wikiquote:Citing_sources\" title=\"Wikiquote:Citing sources\"><i>specific\\xa0citation\\xa0needed</i></a>]</sup></li></ul></li>'}\n",
      "2020-01-29 22:13:24 [scrapy.core.scraper] DEBUG: Scraped from <200 https://en.wikiquote.org/wiki/Marilyn_Manson>\n",
      "{'quote': '<li>Is adult entertainment killing our children? Or is killing our children entertaining adults?\\n<ul><li>As quoted in MarilynManson.com (2000).<sup title=\"Inadequate citation\">[<a href=\"/wiki/Wikiquote:Citing_sources\" title=\"Wikiquote:Citing sources\"><i>specific\\xa0citation\\xa0needed</i></a>]</sup></li></ul></li>'}\n",
      "2020-01-29 22:13:24 [scrapy.core.scraper] DEBUG: Scraped from <200 https://en.wikiquote.org/wiki/Marilyn_Manson>\n",
      "{'quote': '<li>If they think that an artist can destroy their faith, then their faith is rather fragile.\\n<ul><li>As quoted in <a rel=\"nofollow\" class=\"external text\" href=\"http://news.bbc.co.uk/2/hi/entertainment/4175850.stm\">BBC News</a> (23 August 2005)</li></ul></li>'}\n",
      "2020-01-29 22:13:24 [scrapy.core.scraper] DEBUG: Scraped from <200 https://en.wikiquote.org/wiki/Marilyn_Manson>\n",
      "{'quote': '<li>To me, anything that is a church is really just far too close minded.\\n<ul><li>As quoted in <i>Ultimate Guitar</i> (2007).<sup title=\"Inadequate citation\">[<a href=\"/wiki/Wikiquote:Citing_sources\" title=\"Wikiquote:Citing sources\"><i>specific\\xa0citation\\xa0needed</i></a>]</sup></li></ul></li>'}\n",
      "2020-01-29 22:13:24 [scrapy.core.scraper] DEBUG: Scraped from <200 https://en.wikiquote.org/wiki/Marilyn_Manson>\n",
      "{'quote': '<li>We don\\'t believe in credibility, because we know that we\\'re fucking incredible.\\n<ul><li>\"<a rel=\"nofollow\" class=\"external text\" href=\"http://www.azlyrics.com/lyrics/marilynmanson/werefromamerica.html\">We\\'re From America</a>\".</li></ul></li>'}\n",
      "2020-01-29 22:13:24 [scrapy.core.scraper] DEBUG: Scraped from <200 https://en.wikiquote.org/wiki/Marilyn_Manson>\n",
      "{'quote': '<li>We don\\'t like to kill our unborn, we need them to grow up and fight our wars.\\n<ul><li>\"<a rel=\"nofollow\" class=\"external text\" href=\"http://www.azlyrics.com/lyrics/marilynmanson/werefromamerica.html\">We\\'re From America</a>\".</li></ul></li>'}\n",
      "2020-01-29 22:13:24 [scrapy.core.scraper] DEBUG: Scraped from <200 https://en.wikiquote.org/wiki/Marilyn_Manson>\n",
      "{'quote': '<li>Art gives me the freedom I don’t have when I make music. In music, you feel a connection to the voice and think about the person behind it. In art that\\'s secondary.\\n<ul><li>Regarding his latest art exhibition, as quoted in <a rel=\"nofollow\" class=\"external text\" href=\"http://www.theage.com.au/\"><i>The Age</i></a> (30 June 2010).<sup title=\"Inadequate citation\">[<a href=\"/wiki/Wikiquote:Citing_sources\" title=\"Wikiquote:Citing sources\"><i>specific\\xa0citation\\xa0needed</i></a>]</sup></li></ul></li>'}\n",
      "2020-01-29 22:13:24 [scrapy.core.scraper] DEBUG: Scraped from <200 https://en.wikiquote.org/wiki/Marilyn_Manson>\n",
      "{'quote': '<li>[A] dude\\'s getting bullied and shoots up his school, and they blame it on Marilyn and the heroin; where were the parents at?\\n<ul><li><a href=\"/wiki/Eminem\" title=\"Eminem\">Marshall B. Mathers</a>, <a rel=\"nofollow\" class=\"external text\" href=\"http://www.azlyrics.com/lyrics/eminem/thewayiam.html\">\"The Way I Am\"</a> (2000), <i>The Marshall Mathers LP</i></li></ul></li>'}\n",
      "2020-01-29 22:13:24 [scrapy.core.scraper] DEBUG: Scraped from <200 https://en.wikiquote.org/wiki/Marilyn_Manson>\n",
      "{'quote': '<li><a rel=\"nofollow\" class=\"external free\" href=\"http://www.marilynmanson.com/\">http://www.marilynmanson.com/</a></li>'}\n",
      "2020-01-29 22:13:24 [scrapy.core.scraper] DEBUG: Scraped from <200 https://en.wikiquote.org/wiki/Marilyn_Manson>\n",
      "{'quote': '<li><a rel=\"nofollow\" class=\"external free\" href=\"http://www.mansonwiki.com/\">http://www.mansonwiki.com/</a></li>'}\n",
      "2020-01-29 22:13:24 [scrapy.core.engine] INFO: Closing spider (finished)\n",
      "2020-01-29 22:13:24 [scrapy.statscollectors] INFO: Dumping Scrapy stats:\n",
      "{'downloader/request_bytes': 234,\n",
      " 'downloader/request_count': 1,\n",
      " 'downloader/request_method_count/GET': 1,\n",
      " 'downloader/response_bytes': 16858,\n",
      " 'downloader/response_count': 1,\n",
      " 'downloader/response_status_count/200': 1,\n",
      " 'elapsed_time_seconds': 2.0417,\n",
      " 'finish_reason': 'finished',\n",
      " 'finish_time': datetime.datetime(2020, 1, 29, 20, 13, 24, 977523),\n",
      " 'item_scraped_count': 24,\n",
      " 'log_count/DEBUG': 25,\n",
      " 'log_count/INFO': 10,\n",
      " 'memusage/max': 72470528,\n",
      " 'memusage/startup': 72470528,\n",
      " 'response_received_count': 1,\n",
      " 'scheduler/dequeued': 1,\n",
      " 'scheduler/dequeued/memory': 1,\n",
      " 'scheduler/enqueued': 1,\n",
      " 'scheduler/enqueued/memory': 1,\n",
      " 'start_time': datetime.datetime(2020, 1, 29, 20, 13, 22, 935823)}\n"
     ]
    },
    {
     "name": "stderr",
     "output_type": "stream",
     "text": [
      "2020-01-29 22:13:24 [scrapy.core.engine] INFO: Spider closed (finished)\n"
     ]
    }
   ],
   "source": [
    "from scrapy.crawler import CrawlerProcess\n",
    "\n",
    "class MarilynMansonQuotes(scrapy.Spider):\n",
    "    name = \"MarilynMansonQuotes\"\n",
    "    start_urls = [\n",
    "        'https://en.wikiquote.org/wiki/Marilyn_Manson',\n",
    "    ]\n",
    "    \n",
    "    def parse(self, response):\n",
    "        for quote in response.css('div.mw-parser-output > ul > li'):\n",
    "            yield {'quote': quote.extract()}\n",
    "\n",
    "process = CrawlerProcess()\n",
    "process.crawl(MarilynMansonQuotes)\n",
    "process.start()"
   ]
  },
  {
   "cell_type": "code",
   "execution_count": 3,
   "metadata": {},
   "outputs": [],
   "source": [
    "class ExtractFirstLine(object):\n",
    "    def process_item(self, item, spider):\n",
    "        lines = dict(item)[\"quote\"].splitlines()\n",
    "        first_line = self.__remove_html_tags__(lines[0])\n",
    "        return {'quote': first_line}\n",
    "    \n",
    "    def __remove_html_tags__(self, text):\n",
    "        html_tags = re.compile('<.*?>')\n",
    "        return re.sub(html_tags, '', text)"
   ]
  },
  {
   "cell_type": "code",
   "execution_count": 4,
   "metadata": {},
   "outputs": [],
   "source": [
    "class MarilynMansonQuotesFirstLineOnly(scrapy.Spider):\n",
    "    name = \"MarilynMansonQuotesFirstLineOnly\"\n",
    "    start_urls = [\n",
    "        'https://en.wikiquote.org/wiki/Marilyn_Manson',\n",
    "    ]\n",
    "    \n",
    "    custom_settings = {\n",
    "        'ITEM_PIPELINES': {'__main__.ExtractFirstLine': 1},\n",
    "    }\n",
    "        \n",
    "    def parse(self, response):\n",
    "        for quote in response.css('div.mw-parser-output > ul > li'):\n",
    "            yield {'quote': quote.extract()}\n",
    "    \n",
    "    def __remove_html_tags__(self, text):\n",
    "        html_tags = re.compile('<.*?>')\n",
    "        return re.sub(html_tags, '', text)\n"
   ]
  },
  {
   "cell_type": "code",
   "execution_count": 5,
   "metadata": {},
   "outputs": [],
   "source": [
    "import logging\n",
    "\n",
    "class MarilynMansonQuotesToCsv(scrapy.Spider):\n",
    "    name = \"MarilynMansonQuotesToCsv\"\n",
    "    start_urls = [\n",
    "        'https://en.wikiquote.org/wiki/Marilyn_Manson',\n",
    "    ]\n",
    "    \n",
    "    custom_settings = {\n",
    "        'ITEM_PIPELINES': {'__main__.ExtractFirstLine': 1},\n",
    "        'FEED_FORMAT':'csv',\n",
    "        'FEED_URI': 'marilyn_manson.csv'\n",
    "    }\n",
    "        \n",
    "    def parse(self, response):\n",
    "        for quote in response.css('div.mw-parser-output > ul > li'):\n",
    "            yield {'quote': quote.extract()}"
   ]
  },
  {
   "cell_type": "code",
   "execution_count": 6,
   "metadata": {},
   "outputs": [
    {
     "name": "stdout",
     "output_type": "stream",
     "text": [
      "README.md          \u001b[34mnode_modules\u001b[m\u001b[m/      \u001b[34mpublic\u001b[m\u001b[m/\r\n",
      "Untitled.ipynb     package-lock.json  \u001b[34msrc\u001b[m\u001b[m/\r\n",
      "\u001b[34mbuild\u001b[m\u001b[m/             package.json       yarn.lock\r\n"
     ]
    }
   ],
   "source": [
    "ls"
   ]
  },
  {
   "cell_type": "code",
   "execution_count": 7,
   "metadata": {},
   "outputs": [],
   "source": [
    "custom_settings = {\n",
    "        'LOG_LEVEL': logging.WARNING,\n",
    "        'ITEM_PIPELINES': {'__main__.ExtractFirstLine': 1},\n",
    "        'FEED_FORMAT':'csv',\n",
    "        'FEED_URI': 'marilyn_manson.csv'\n",
    "    }"
   ]
  },
  {
   "cell_type": "code",
   "execution_count": 10,
   "metadata": {},
   "outputs": [
    {
     "data": {
      "text/plain": [
       "dict_keys(['LOG_LEVEL', 'ITEM_PIPELINES', 'FEED_FORMAT', 'FEED_URI'])"
      ]
     },
     "execution_count": 10,
     "metadata": {},
     "output_type": "execute_result"
    }
   ],
   "source": [
    "custom_settings.keys()"
   ]
  },
  {
   "cell_type": "code",
   "execution_count": null,
   "metadata": {},
   "outputs": [
    {
     "name": "stderr",
     "output_type": "stream",
     "text": [
      "2020-01-29 22:19:25 [scrapy.utils.log] INFO: Scrapy 1.8.0 started (bot: scrapybot)\n",
      "2020-01-29 22:19:25 [scrapy.utils.log] INFO: Versions: lxml 4.4.1.0, libxml2 2.9.9, cssselect 1.1.0, parsel 1.5.2, w3lib 1.21.0, Twisted 19.10.0, Python 3.7.4 (default, Aug 13 2019, 15:17:50) - [Clang 4.0.1 (tags/RELEASE_401/final)], pyOpenSSL 19.0.0 (OpenSSL 1.1.1d  10 Sep 2019), cryptography 2.7, Platform Darwin-19.0.0-x86_64-i386-64bit\n",
      "2020-01-29 22:19:25 [scrapy.crawler] INFO: Overridden settings: {'USER_AGENT': 'Mozilla/5.0'}\n",
      "2020-01-29 22:19:25 [scrapy.extensions.telnet] INFO: Telnet Password: 05028a0c3b602f06\n",
      "2020-01-29 22:19:25 [scrapy.middleware] INFO: Enabled extensions:\n",
      "['scrapy.extensions.corestats.CoreStats',\n",
      " 'scrapy.extensions.telnet.TelnetConsole',\n",
      " 'scrapy.extensions.memusage.MemoryUsage',\n",
      " 'scrapy.extensions.logstats.LogStats']\n",
      "2020-01-29 22:19:25 [scrapy.middleware] INFO: Enabled downloader middlewares:\n",
      "['scrapy.downloadermiddlewares.httpauth.HttpAuthMiddleware',\n",
      " 'scrapy.downloadermiddlewares.downloadtimeout.DownloadTimeoutMiddleware',\n",
      " 'scrapy.downloadermiddlewares.defaultheaders.DefaultHeadersMiddleware',\n",
      " 'scrapy.downloadermiddlewares.useragent.UserAgentMiddleware',\n",
      " 'scrapy.downloadermiddlewares.retry.RetryMiddleware',\n",
      " 'scrapy.downloadermiddlewares.redirect.MetaRefreshMiddleware',\n",
      " 'scrapy.downloadermiddlewares.httpcompression.HttpCompressionMiddleware',\n",
      " 'scrapy.downloadermiddlewares.redirect.RedirectMiddleware',\n",
      " 'scrapy.downloadermiddlewares.cookies.CookiesMiddleware',\n",
      " 'scrapy.downloadermiddlewares.httpproxy.HttpProxyMiddleware',\n",
      " 'scrapy.downloadermiddlewares.stats.DownloaderStats']\n",
      "2020-01-29 22:19:25 [scrapy.middleware] INFO: Enabled spider middlewares:\n",
      "['scrapy.spidermiddlewares.httperror.HttpErrorMiddleware',\n",
      " 'scrapy.spidermiddlewares.offsite.OffsiteMiddleware',\n",
      " 'scrapy.spidermiddlewares.referer.RefererMiddleware',\n",
      " 'scrapy.spidermiddlewares.urllength.UrlLengthMiddleware',\n",
      " 'scrapy.spidermiddlewares.depth.DepthMiddleware']\n",
      "2020-01-29 22:19:25 [scrapy.middleware] INFO: Enabled item pipelines:\n",
      "[]\n",
      "2020-01-29 22:19:25 [scrapy.core.engine] INFO: Spider opened\n",
      "2020-01-29 22:19:25 [scrapy.extensions.logstats] INFO: Crawled 0 pages (at 0 pages/min), scraped 0 items (at 0 items/min)\n",
      "2020-01-29 22:19:25 [scrapy.extensions.telnet] INFO: Telnet console listening on 127.0.0.1:6023\n",
      "2020-01-29 22:19:26 [scrapy.downloadermiddlewares.redirect] DEBUG: Redirecting (301) to <GET https://yts.lt/browse-movies?page=6> from <GET https://yts.am/browse-movies?page=6>\n",
      "2020-01-29 22:19:26 [scrapy.downloadermiddlewares.redirect] DEBUG: Redirecting (301) to <GET https://yts.lt/browse-movies?page=5> from <GET https://yts.am/browse-movies?page=5>\n",
      "2020-01-29 22:19:26 [scrapy.downloadermiddlewares.redirect] DEBUG: Redirecting (301) to <GET https://yts.lt/browse-movies?page=3> from <GET https://yts.am/browse-movies?page=3>\n",
      "2020-01-29 22:19:26 [scrapy.downloadermiddlewares.redirect] DEBUG: Redirecting (301) to <GET https://yts.lt/browse-movies?page=7> from <GET https://yts.am/browse-movies?page=7>\n",
      "2020-01-29 22:19:26 [scrapy.downloadermiddlewares.redirect] DEBUG: Redirecting (301) to <GET https://yts.lt/browse-movies?page=8> from <GET https://yts.am/browse-movies?page=8>\n",
      "2020-01-29 22:19:26 [scrapy.downloadermiddlewares.redirect] DEBUG: Redirecting (301) to <GET https://yts.lt/browse-movies?page=4> from <GET https://yts.am/browse-movies?page=4>\n",
      "2020-01-29 22:19:26 [scrapy.downloadermiddlewares.redirect] DEBUG: Redirecting (301) to <GET https://yts.lt/browse-movies?page=2> from <GET https://yts.am/browse-movies?page=2>\n",
      "2020-01-29 22:19:26 [scrapy.downloadermiddlewares.redirect] DEBUG: Redirecting (301) to <GET https://yts.lt/browse-movies?page=9> from <GET https://yts.am/browse-movies?page=9>\n",
      "2020-01-29 22:19:26 [scrapy.downloadermiddlewares.redirect] DEBUG: Redirecting (301) to <GET https://yts.lt/browse-movies?page=10> from <GET https://yts.am/browse-movies?page=10>\n",
      "2020-01-29 22:19:26 [scrapy.downloadermiddlewares.redirect] DEBUG: Redirecting (301) to <GET https://yts.lt/browse-movies?page=13> from <GET https://yts.am/browse-movies?page=13>\n",
      "2020-01-29 22:19:26 [scrapy.downloadermiddlewares.redirect] DEBUG: Redirecting (301) to <GET https://yts.lt/browse-movies?page=11> from <GET https://yts.am/browse-movies?page=11>\n",
      "2020-01-29 22:19:26 [scrapy.downloadermiddlewares.redirect] DEBUG: Redirecting (301) to <GET https://yts.lt/browse-movies?page=12> from <GET https://yts.am/browse-movies?page=12>\n",
      "2020-01-29 22:19:26 [scrapy.downloadermiddlewares.redirect] DEBUG: Redirecting (301) to <GET https://yts.lt/browse-movies?page=17> from <GET https://yts.am/browse-movies?page=17>\n",
      "2020-01-29 22:19:26 [scrapy.downloadermiddlewares.redirect] DEBUG: Redirecting (301) to <GET https://yts.lt/browse-movies?page=15> from <GET https://yts.am/browse-movies?page=15>\n",
      "2020-01-29 22:19:26 [scrapy.downloadermiddlewares.redirect] DEBUG: Redirecting (301) to <GET https://yts.lt/browse-movies?page=16> from <GET https://yts.am/browse-movies?page=16>\n",
      "2020-01-29 22:19:26 [scrapy.downloadermiddlewares.redirect] DEBUG: Redirecting (301) to <GET https://yts.lt/browse-movies?page=14> from <GET https://yts.am/browse-movies?page=14>\n",
      "2020-01-29 22:19:27 [scrapy.core.engine] DEBUG: Crawled (200) <GET https://yts.lt/browse-movies?page=6> (referer: None)\n",
      "2020-01-29 22:19:27 [scrapy.core.engine] DEBUG: Crawled (200) <GET https://yts.lt/browse-movies?page=5> (referer: None)\n",
      "2020-01-29 22:19:27 [scrapy.core.engine] DEBUG: Crawled (200) <GET https://yts.lt/browse-movies?page=7> (referer: None)\n",
      "2020-01-29 22:19:27 [scrapy.core.engine] DEBUG: Crawled (200) <GET https://yts.lt/browse-movies?page=3> (referer: None)\n",
      "2020-01-29 22:19:27 [scrapy.core.engine] DEBUG: Crawled (200) <GET https://yts.lt/browse-movies?page=4> (referer: None)\n",
      "2020-01-29 22:19:27 [scrapy.core.engine] DEBUG: Crawled (200) <GET https://yts.lt/browse-movies?page=2> (referer: None)\n",
      "2020-01-29 22:19:27 [scrapy.core.engine] DEBUG: Crawled (200) <GET https://yts.lt/browse-movies?page=8> (referer: None)\n",
      "2020-01-29 22:19:28 [scrapy.core.engine] DEBUG: Crawled (200) <GET https://yts.lt/browse-movies?page=13> (referer: None)\n",
      "2020-01-29 22:19:28 [scrapy.core.engine] DEBUG: Crawled (200) <GET https://yts.lt/browse-movies?page=10> (referer: None)\n",
      "2020-01-29 22:19:28 [scrapy.core.engine] DEBUG: Crawled (200) <GET https://yts.lt/browse-movies?page=12> (referer: None)\n",
      "2020-01-29 22:19:28 [scrapy.core.engine] DEBUG: Crawled (200) <GET https://yts.lt/browse-movies?page=17> (referer: None)\n",
      "2020-01-29 22:19:28 [scrapy.downloadermiddlewares.redirect] DEBUG: Redirecting (301) to <GET https://yts.lt/browse-movies?page=18> from <GET https://yts.am/browse-movies?page=18>\n",
      "2020-01-29 22:19:28 [scrapy.core.engine] DEBUG: Crawled (200) <GET https://yts.lt/browse-movies?page=11> (referer: None)\n",
      "2020-01-29 22:19:28 [scrapy.downloadermiddlewares.redirect] DEBUG: Redirecting (301) to <GET https://yts.lt/browse-movies?page=19> from <GET https://yts.am/browse-movies?page=19>\n",
      "2020-01-29 22:19:28 [scrapy.core.engine] DEBUG: Crawled (200) <GET https://yts.lt/browse-movies?page=14> (referer: None)\n",
      "2020-01-29 22:19:28 [scrapy.core.engine] DEBUG: Crawled (200) <GET https://yts.lt/browse-movies?page=16> (referer: None)\n",
      "2020-01-29 22:19:28 [scrapy.core.engine] DEBUG: Crawled (200) <GET https://yts.lt/browse-movies?page=9> (referer: None)\n",
      "2020-01-29 22:19:28 [scrapy.core.engine] DEBUG: Crawled (200) <GET https://yts.lt/browse-movies?page=15> (referer: None)\n",
      "2020-01-29 22:19:29 [scrapy.core.engine] DEBUG: Crawled (200) <GET https://yts.lt/browse-movies?page=19> (referer: None)\n",
      "2020-01-29 22:19:29 [scrapy.core.engine] DEBUG: Crawled (200) <GET https://yts.lt/browse-movies?page=18> (referer: None)\n",
      "2020-01-29 22:19:29 [scrapy.core.engine] INFO: Closing spider (finished)\n",
      "2020-01-29 22:19:29 [scrapy.statscollectors] INFO: Dumping Scrapy stats:\n",
      "{'downloader/request_bytes': 7492,\n",
      " 'downloader/request_count': 36,\n",
      " 'downloader/request_method_count/GET': 36,\n",
      " 'downloader/response_bytes': 122978,\n",
      " 'downloader/response_count': 36,\n",
      " 'downloader/response_status_count/200': 18,\n",
      " 'downloader/response_status_count/301': 18,\n",
      " 'elapsed_time_seconds': 3.502866,\n",
      " 'finish_reason': 'finished',\n",
      " 'finish_time': datetime.datetime(2020, 1, 29, 20, 19, 29, 238361),\n",
      " 'log_count/DEBUG': 36,\n",
      " 'log_count/INFO': 10,\n",
      " 'memusage/max': 72499200,\n",
      " 'memusage/startup': 72499200,\n",
      " 'response_received_count': 18,\n",
      " 'scheduler/dequeued': 36,\n",
      " 'scheduler/dequeued/memory': 36,\n",
      " 'scheduler/enqueued': 36,\n",
      " 'scheduler/enqueued/memory': 36,\n",
      " 'start_time': datetime.datetime(2020, 1, 29, 20, 19, 25, 735495)}\n"
     ]
    },
    {
     "name": "stderr",
     "output_type": "stream",
     "text": [
      "2020-01-29 22:19:29 [scrapy.core.engine] INFO: Spider closed (finished)\n"
     ]
    }
   ],
   "source": [
    "import scrapy\n",
    "from scrapy.crawler import CrawlerProcess\n",
    "import csv\n",
    "\n",
    "class TorrentSpider(scrapy.Spider):\n",
    "    name = \"torrentdata\"\n",
    "    start_urls = [\"https://yts.am/browse-movies?page={}\".format(page) for page in range(2,20)] #get something within list\n",
    "    itemlist = []\n",
    "\n",
    "    def parse(self, response):\n",
    "        for record in response.css('.browse-movie-bottom'):\n",
    "            items = {}\n",
    "            items[\"Name\"] = record.css('.browse-movie-title::text').extract_first(default='')\n",
    "            items[\"Year\"] = record.css('.browse-movie-year::text').extract_first(default='')\n",
    "            self.itemlist.append(items)\n",
    "\n",
    "        with open(\"outputfile.csv\",\"w\", newline=\"\") as f:\n",
    "            writer = csv.DictWriter(f,['Name','Year'])\n",
    "            writer.writeheader()\n",
    "            for data in self.itemlist:\n",
    "                writer.writerow(data)\n",
    "\n",
    "c = CrawlerProcess({\n",
    "    'USER_AGENT': 'Mozilla/5.0',   \n",
    "})\n",
    "c.crawl(TorrentSpider)\n",
    "c.start() "
   ]
  },
  {
   "cell_type": "code",
   "execution_count": null,
   "metadata": {},
   "outputs": [],
   "source": []
  }
 ],
 "metadata": {
  "kernelspec": {
   "display_name": "Python 3",
   "language": "python",
   "name": "python3"
  },
  "language_info": {
   "codemirror_mode": {
    "name": "ipython",
    "version": 3
   },
   "file_extension": ".py",
   "mimetype": "text/x-python",
   "name": "python",
   "nbconvert_exporter": "python",
   "pygments_lexer": "ipython3",
   "version": "3.7.4"
  }
 },
 "nbformat": 4,
 "nbformat_minor": 2
}
